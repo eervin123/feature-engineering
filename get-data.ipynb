{
 "cells": [
  {
   "attachments": {},
   "cell_type": "markdown",
   "metadata": {},
   "source": [
    "# Simple file for downloading market data\n",
    "Make sure you have the following packages installed\n",
    "`vectorbt` & \n",
    "`python-binance`\n",
    "\n",
    "`pip install vectorbt python-binance`"
   ]
  },
  {
   "cell_type": "code",
   "execution_count": 2,
   "metadata": {},
   "outputs": [],
   "source": [
    "import vectorbt as vbt"
   ]
  },
  {
   "cell_type": "code",
   "execution_count": 8,
   "metadata": {},
   "outputs": [],
   "source": [
    "symbol = 'ETHUSDT' # 'BTCUSDT'\n",
    "freq = '1m'\n",
    "\n",
    "start_date = '2021-01-01'\n",
    "# end_date = '2022-01-01' # or 'now UTC'\n",
    "end_date = 'now UTC'"
   ]
  },
  {
   "attachments": {},
   "cell_type": "markdown",
   "metadata": {},
   "source": [
    "## Download the data\n",
    "Note, we are downloading from binance. If you are in the US, you will need to load up your VPN because Binance does not allow US Ip addresses. I typically just tunnel in through France and have no problems using NordVPN. \n",
    "\n",
    "look out for this error \n",
    "``` HTML\n",
    "BinanceAPIException: APIError(code=0): Service unavailable from a restricted location according to 'b. Eligibility' in https://www.binance.com/en/terms. Please contact customer service if you believe you received this message in error.\n",
    "```"
   ]
  },
  {
   "cell_type": "code",
   "execution_count": 9,
   "metadata": {},
   "outputs": [
    {
     "data": {
      "application/vnd.jupyter.widget-view+json": {
       "model_id": "16186b987ea845fea93f2b92bd5cbb8a",
       "version_major": 2,
       "version_minor": 0
      },
      "text/plain": [
       "0it [00:00, ?it/s]"
      ]
     },
     "metadata": {},
     "output_type": "display_data"
    }
   ],
   "source": [
    "data = vbt.BinanceData.download(symbol, interval=freq, start=start_date, end=end_date).get()"
   ]
  },
  {
   "cell_type": "code",
   "execution_count": 17,
   "metadata": {},
   "outputs": [],
   "source": [
    "data.to_csv(f'{symbol}_{freq}.csv')"
   ]
  }
 ],
 "metadata": {
  "kernelspec": {
   "display_name": "backtesting",
   "language": "python",
   "name": "python3"
  },
  "language_info": {
   "codemirror_mode": {
    "name": "ipython",
    "version": 3
   },
   "file_extension": ".py",
   "mimetype": "text/x-python",
   "name": "python",
   "nbconvert_exporter": "python",
   "pygments_lexer": "ipython3",
   "version": "3.10.9"
  },
  "orig_nbformat": 4
 },
 "nbformat": 4,
 "nbformat_minor": 2
}
